{
 "cells": [
  {
   "cell_type": "code",
   "execution_count": 5,
   "metadata": {},
   "outputs": [
    {
     "name": "stderr",
     "output_type": "stream",
     "text": [
      "/home/michal/.local/lib/python3.5/site-packages/h5py/__init__.py:36: FutureWarning: Conversion of the second argument of issubdtype from `float` to `np.floating` is deprecated. In future, it will be treated as `np.float64 == np.dtype(float).type`.\n",
      "  from ._conv import register_converters as _register_converters\n",
      "Using TensorFlow backend.\n"
     ]
    }
   ],
   "source": [
    "import os\n",
    "\n",
    "os.environ['KERAS_BACKEND'] = \"tensorflow\"\n",
    "\n",
    "import glob\n",
    "from keras.preprocessing.image import load_img\n",
    "from keras.preprocessing.image import img_to_array\n",
    "from keras.applications.vgg16 import preprocess_input\n",
    "from keras.applications.vgg16 import decode_predictions\n",
    "from keras.applications.vgg16 import VGG16\n",
    "from keras.layers import Input\n",
    "import matplotlib.pyplot as plt\n",
    "from keras.preprocessing import image\n",
    "from keras.layers import Input, Flatten, Dense\n",
    "from keras.models import Model\n",
    "from keras import metrics\n",
    "\n",
    "import numpy as np\n",
    "import pickle\n"
   ]
  },
  {
   "cell_type": "markdown",
   "metadata": {},
   "source": [
    "# Hyperparameters"
   ]
  },
  {
   "cell_type": "code",
   "execution_count": 6,
   "metadata": {},
   "outputs": [],
   "source": [
    "INPUT_SHAPE = (224,224,3)\n",
    "BATCH_SIZE = 32\n",
    "EPOCHS = 5"
   ]
  },
  {
   "cell_type": "markdown",
   "metadata": {},
   "source": [
    "# Code"
   ]
  },
  {
   "cell_type": "code",
   "execution_count": 7,
   "metadata": {},
   "outputs": [],
   "source": [
    "input_tensor = Input(shape=INPUT_SHAPE, name = 'image_input')\n",
    "# Also weights = 'imagenet' really important it takes weights from imagenet\n",
    "model_vgg16_conv = VGG16(weights = 'imagenet', include_top=False, input_tensor=input_tensor)"
   ]
  },
  {
   "cell_type": "code",
   "execution_count": 8,
   "metadata": {},
   "outputs": [],
   "source": [
    "import pandas as pd\n",
    "df_train = pd.read_csv('./labels.csv')"
   ]
  },
  {
   "cell_type": "code",
   "execution_count": 16,
   "metadata": {},
   "outputs": [],
   "source": [
    "#from tqdm import tqdm\n",
    "import cv2\n",
    "x_train = []\n",
    "y_train = []"
   ]
  },
  {
   "cell_type": "code",
   "execution_count": null,
   "metadata": {},
   "outputs": [],
   "source": []
  },
  {
   "cell_type": "code",
   "execution_count": 42,
   "metadata": {},
   "outputs": [],
   "source": [
    "targets_series = pd.Series(df_train['breed'])\n",
    "one_hot = pd.get_dummies(targets_series, sparse = True)\n",
    "one_hot_labels = np.asarray(one_hot)\n",
    "# print(targets_series)\n",
    "\n",
    "# create folders\n",
    "import os, errno\n",
    "\n",
    "dirs = ['test', 'train']\n",
    "for dir in dirs:\n",
    "    for breed in targets_series:\n",
    "        try:\n",
    "            os.makedirs('./'+dir+'/'+breed)\n",
    "        except OSError as e:\n",
    "            if e.errno != errno.EEXIST:\n",
    "                raise"
   ]
  },
  {
   "cell_type": "code",
   "execution_count": 45,
   "metadata": {},
   "outputs": [],
   "source": [
    "# Creating ictionary with images id divided to breeds\n",
    "# { buldog: [12rr,12r234,324234...]...}\n",
    "dogs_dict = dict()\n",
    "for breed in targets_series:\n",
    "    dogs_dict.setdefault(breed, [])"
   ]
  },
  {
   "cell_type": "code",
   "execution_count": null,
   "metadata": {},
   "outputs": [],
   "source": [
    "for index, row in df_train.iterrows():\n",
    "    "
   ]
  },
  {
   "cell_type": "code",
   "execution_count": 41,
   "metadata": {},
   "outputs": [],
   "source": [
    "\n",
    "# copy photos to specific folders\n",
    "import pandas as pd\n",
    "!pip install shutil\n",
    "from shutil import copyfile\n",
    "\n",
    "# copyfile(src, dst)\n",
    "df_train = pd.read_csv('./labels.csv')\n",
    "# print(df_train)\n",
    "\n",
    "for index, row in df_train.iterrows():\n",
    "    copyfile(src, dst)\n",
    "    print(row['id'],row['breed'])"
   ]
  },
  {
   "cell_type": "code",
   "execution_count": null,
   "metadata": {},
   "outputs": [],
   "source": []
  },
  {
   "cell_type": "code",
   "execution_count": null,
   "metadata": {},
   "outputs": [],
   "source": []
  },
  {
   "cell_type": "code",
   "execution_count": 7,
   "metadata": {
    "collapsed": true
   },
   "outputs": [],
   "source": [
    "i = 0 \n",
    "#for f, breed in tqdm(df_train.values):\n",
    "for f, breed in df_train.values:\n",
    "    img = cv2.imread('../train/{}.jpg'.format(f), 1)\n",
    "    label = one_hot_labels[i]\n",
    "    x_train.append(cv2.resize(img, (INPUT_SHAPE[0], INPUT_SHAPE[1])))\n",
    "    y_train.append(label)\n",
    "    i += 1"
   ]
  },
  {
   "cell_type": "code",
   "execution_count": 8,
   "metadata": {
    "collapsed": true
   },
   "outputs": [],
   "source": [
    "y_train_raw = np.array(y_train, np.uint8)\n",
    "x_train_raw = np.array(x_train, np.float32) / 255."
   ]
  },
  {
   "cell_type": "code",
   "execution_count": 2,
   "metadata": {},
   "outputs": [
    {
     "ename": "ImportError",
     "evalue": "No module named 'sklearn.model_selection'",
     "output_type": "error",
     "traceback": [
      "\u001b[0;31m---------------------------------------------------------------------------\u001b[0m",
      "\u001b[0;31mImportError\u001b[0m                               Traceback (most recent call last)",
      "\u001b[0;32m<ipython-input-2-85259ea29fec>\u001b[0m in \u001b[0;36m<module>\u001b[0;34m()\u001b[0m\n\u001b[1;32m      1\u001b[0m \u001b[1;31m#import sklearn\u001b[0m\u001b[1;33m\u001b[0m\u001b[1;33m\u001b[0m\u001b[0m\n\u001b[0;32m----> 2\u001b[0;31m \u001b[1;32mfrom\u001b[0m \u001b[0msklearn\u001b[0m\u001b[1;33m.\u001b[0m\u001b[0mmodel_selection\u001b[0m \u001b[1;32mimport\u001b[0m \u001b[0mtrain_test_split\u001b[0m\u001b[1;33m\u001b[0m\u001b[0m\n\u001b[0m\u001b[1;32m      3\u001b[0m \u001b[1;31m# dzieli po rowno stratify\u001b[0m\u001b[1;33m\u001b[0m\u001b[1;33m\u001b[0m\u001b[0m\n\u001b[1;32m      4\u001b[0m \u001b[1;31m# porownanie 2ch sieci\u001b[0m\u001b[1;33m\u001b[0m\u001b[1;33m\u001b[0m\u001b[0m\n\u001b[1;32m      5\u001b[0m \u001b[1;31m# xception, CGG16< -----\u001b[0m\u001b[1;33m\u001b[0m\u001b[1;33m\u001b[0m\u001b[0m\n",
      "\u001b[0;31mImportError\u001b[0m: No module named 'sklearn.model_selection'"
     ]
    }
   ],
   "source": [
    "#import sklearn\n",
    "from sklearn.model_selection import train_test_split\n",
    "# dzieli po rowno stratify\n",
    "# porownanie 2ch sieci \n",
    "# xception, CGG16< -----\n",
    "# resnet i inception\n",
    "# Przerzuc na foldery\n",
    "# Teoria\n",
    "# 1. Machine learning computer vision\n",
    "# 2. Transfer Learning\n",
    "# 3. OPis 2ch modeli\n",
    "# 4. Wyniki \n",
    "# 5. Podsumowanie\n",
    "# Do konca lutegeo SPIS TRESCI\n",
    "# Do konca marcca 1 rozdzial\n",
    "X_train, X_valid, Y_train, Y_valid = train_test_split(x_train_raw, y_train_raw, test_size=0.2, stratify=y_train)"
   ]
  },
  {
   "cell_type": "code",
   "execution_count": 10,
   "metadata": {},
   "outputs": [
    {
     "name": "stdout",
     "output_type": "stream",
     "text": [
      "Train:  (8177, 224, 224, 3) (8177, 120)\n",
      "Valid:  (2045, 224, 224, 3) (2045, 120)\n"
     ]
    }
   ],
   "source": [
    "print (\"Train: \", X_train.shape, Y_train.shape)\n",
    "print (\"Valid: \", X_valid.shape, Y_valid.shape)"
   ]
  },
  {
   "cell_type": "markdown",
   "metadata": {},
   "source": [
    "### Data generator"
   ]
  },
  {
   "cell_type": "code",
   "execution_count": 11,
   "metadata": {
    "collapsed": true
   },
   "outputs": [],
   "source": [
    "from keras.preprocessing.image import ImageDataGenerator\n",
    "\n",
    "datagen = ImageDataGenerator(\n",
    "    featurewise_center=False,\n",
    "    featurewise_std_normalization=False,\n",
    "    rotation_range=20,\n",
    "    width_shift_range=0.2,\n",
    "    height_shift_range=0.2,\n",
    "    horizontal_flip=True)\n",
    "\n",
    "datagen.fit(x_train_raw)"
   ]
  },
  {
   "cell_type": "markdown",
   "metadata": {},
   "source": [
    "### Plot history"
   ]
  },
  {
   "cell_type": "code",
   "execution_count": 12,
   "metadata": {
    "collapsed": true
   },
   "outputs": [],
   "source": [
    "acc = []\n",
    "val_acc = []\n",
    "loss = []\n",
    "val_loss = []\n",
    "\n",
    "def unpack_history(history):\n",
    "    global acc\n",
    "    global val_acc\n",
    "    global loss\n",
    "    global val_loss\n",
    "    acc += history.history['acc']\n",
    "    val_acc += history.history['val_acc']\n",
    "    loss += history.history['loss']\n",
    "    val_loss += history.history['val_loss']\n",
    "    \n",
    "def plot_history():\n",
    "    epochs = np.arange(len(acc)) + 1\n",
    "    \n",
    "    fig = plt.figure(figsize=(12, 4))\n",
    "\n",
    "    ax1 = fig.add_subplot(121)    \n",
    "    ax1.plot(epochs, loss, c='g', label='Train')\n",
    "    ax1.plot(epochs, val_loss, c='r', label='Valid')\n",
    "    ax1.set_title('Loss')\n",
    "    ax1.legend(loc='lower left');\n",
    "    ax1.grid(True)\n",
    "    \n",
    "    ax2 = fig.add_subplot(122)    \n",
    "    ax2.plot(epochs, acc, c='g', label='Train')\n",
    "    ax2.plot(epochs, val_acc, c='r', label='Valid')\n",
    "    ax2.set_title('Accuracy')\n",
    "    #ax2.legend(loc='upper left');\n",
    "    ax2.grid(True)\n",
    "        \n",
    "    plt.show()    \n",
    "    \n",
    "    met_dic = {}\n",
    "    met_dic['loss'] = loss\n",
    "    met_dic['val_loss'] = val_loss\n",
    "    met_dic['acc'] = acc\n",
    "    met_dic['val_acc'] = val_acc\n",
    "    \n",
    "    pickle.dump(met_dic, open( \"metrics.p\", \"wb\" ))\n",
    "    "
   ]
  },
  {
   "cell_type": "markdown",
   "metadata": {},
   "source": [
    "### Model"
   ]
  },
  {
   "cell_type": "code",
   "execution_count": 13,
   "metadata": {},
   "outputs": [
    {
     "name": "stdout",
     "output_type": "stream",
     "text": [
      "_________________________________________________________________\n",
      "Layer (type)                 Output Shape              Param #   \n",
      "=================================================================\n",
      "image_input (InputLayer)     (None, 224, 224, 3)       0         \n",
      "_________________________________________________________________\n",
      "block1_conv1 (Conv2D)        (None, 224, 224, 64)      1792      \n",
      "_________________________________________________________________\n",
      "block1_conv2 (Conv2D)        (None, 224, 224, 64)      36928     \n",
      "_________________________________________________________________\n",
      "block1_pool (MaxPooling2D)   (None, 112, 112, 64)      0         \n",
      "_________________________________________________________________\n",
      "block2_conv1 (Conv2D)        (None, 112, 112, 128)     73856     \n",
      "_________________________________________________________________\n",
      "block2_conv2 (Conv2D)        (None, 112, 112, 128)     147584    \n",
      "_________________________________________________________________\n",
      "block2_pool (MaxPooling2D)   (None, 56, 56, 128)       0         \n",
      "_________________________________________________________________\n",
      "block3_conv1 (Conv2D)        (None, 56, 56, 256)       295168    \n",
      "_________________________________________________________________\n",
      "block3_conv2 (Conv2D)        (None, 56, 56, 256)       590080    \n",
      "_________________________________________________________________\n",
      "block3_conv3 (Conv2D)        (None, 56, 56, 256)       590080    \n",
      "_________________________________________________________________\n",
      "block3_pool (MaxPooling2D)   (None, 28, 28, 256)       0         \n",
      "_________________________________________________________________\n",
      "block4_conv1 (Conv2D)        (None, 28, 28, 512)       1180160   \n",
      "_________________________________________________________________\n",
      "block4_conv2 (Conv2D)        (None, 28, 28, 512)       2359808   \n",
      "_________________________________________________________________\n",
      "block4_conv3 (Conv2D)        (None, 28, 28, 512)       2359808   \n",
      "_________________________________________________________________\n",
      "block4_pool (MaxPooling2D)   (None, 14, 14, 512)       0         \n",
      "_________________________________________________________________\n",
      "block5_conv1 (Conv2D)        (None, 14, 14, 512)       2359808   \n",
      "_________________________________________________________________\n",
      "block5_conv2 (Conv2D)        (None, 14, 14, 512)       2359808   \n",
      "_________________________________________________________________\n",
      "block5_conv3 (Conv2D)        (None, 14, 14, 512)       2359808   \n",
      "_________________________________________________________________\n",
      "block5_pool (MaxPooling2D)   (None, 7, 7, 512)         0         \n",
      "_________________________________________________________________\n",
      "sequential_1 (Sequential)    (None, 120)               3010680   \n",
      "=================================================================\n",
      "Total params: 17,725,368\n",
      "Trainable params: 3,010,680\n",
      "Non-trainable params: 14,714,688\n",
      "_________________________________________________________________\n"
     ]
    }
   ],
   "source": [
    "from keras.models import Model, Sequential\n",
    "from keras.layers import Dropout, Flatten, Dense, Input, MaxPooling2D, Conv2D, Activation, BatchNormalization\n",
    "from keras.callbacks import EarlyStopping\n",
    "\n",
    "total_of_dog_breeds = 120\n",
    "# Add a new top layer\n",
    "# Get rid of 1st layer\n",
    "output_vgg16_conv = model_vgg16_conv.output_shape[1:]\n",
    "\n",
    "top_model = Sequential()\n",
    "top_model.add(Flatten(input_shape=output_vgg16_conv))\n",
    "top_model.add(Dense(total_of_dog_breeds, activation='softmax', name='predictions'))\n",
    "\n",
    "# Witohut it it will retrain entire network !!!!\n",
    "for layer in model_vgg16_conv.layers:\n",
    "    layer.trainable = False\n",
    "\n",
    "# Combine base and top\n",
    "dog_model = Model([model_vgg16_conv.input],\n",
    "              [top_model(model_vgg16_conv.output)])\n",
    "\n",
    "dog_model.compile(loss='categorical_crossentropy', \n",
    "              optimizer='adam', \n",
    "              metrics=['accuracy', metrics.top_k_categorical_accuracy])\n",
    "\n",
    "# https://stackoverflow.com/questions/43906048/keras-early-stopping\n",
    "callbacks_list = [EarlyStopping(monitor='val_acc', patience=5, verbose=0)]\n",
    "dog_model.summary()\n",
    "\n"
   ]
  },
  {
   "cell_type": "markdown",
   "metadata": {},
   "source": [
    "### Transfer learning"
   ]
  },
  {
   "cell_type": "code",
   "execution_count": 15,
   "metadata": {},
   "outputs": [
    {
     "name": "stdout",
     "output_type": "stream",
     "text": [
      "Epoch 1/30\n",
      "256/255 [==============================] - 99s 386ms/step - loss: 6.4488 - acc: 0.0727 - top_k_categorical_accuracy: 0.2047 - val_loss: 5.7218 - val_acc: 0.1501 - val_top_k_categorical_accuracy: 0.3487\n",
      "Epoch 2/30\n",
      "256/255 [==============================] - 79s 308ms/step - loss: 5.2348 - acc: 0.1981 - top_k_categorical_accuracy: 0.4095 - val_loss: 5.3415 - val_acc: 0.2112 - val_top_k_categorical_accuracy: 0.4323\n",
      "Epoch 3/30\n",
      "256/255 [==============================] - 79s 308ms/step - loss: 4.7327 - acc: 0.2509 - top_k_categorical_accuracy: 0.4902 - val_loss: 5.5644 - val_acc: 0.2044 - val_top_k_categorical_accuracy: 0.4313\n",
      "Epoch 4/30\n",
      "256/255 [==============================] - 79s 308ms/step - loss: 4.6086 - acc: 0.2849 - top_k_categorical_accuracy: 0.5329 - val_loss: 5.4018 - val_acc: 0.2279 - val_top_k_categorical_accuracy: 0.4875\n",
      "Epoch 5/30\n",
      "256/255 [==============================] - 83s 324ms/step - loss: 4.4004 - acc: 0.3373 - top_k_categorical_accuracy: 0.5722 - val_loss: 5.4192 - val_acc: 0.2577 - val_top_k_categorical_accuracy: 0.5076\n",
      "Epoch 6/30\n",
      "256/255 [==============================] - 83s 326ms/step - loss: 4.1662 - acc: 0.3581 - top_k_categorical_accuracy: 0.6098 - val_loss: 5.3999 - val_acc: 0.2641 - val_top_k_categorical_accuracy: 0.5271\n",
      "Epoch 7/30\n",
      "256/255 [==============================] - 84s 328ms/step - loss: 4.0318 - acc: 0.3823 - top_k_categorical_accuracy: 0.6368 - val_loss: 5.6709 - val_acc: 0.2469 - val_top_k_categorical_accuracy: 0.5154\n",
      "Epoch 8/30\n",
      "256/255 [==============================] - 83s 323ms/step - loss: 4.1071 - acc: 0.3906 - top_k_categorical_accuracy: 0.6446 - val_loss: 6.1253 - val_acc: 0.2362 - val_top_k_categorical_accuracy: 0.5002\n",
      "Epoch 9/30\n",
      "256/255 [==============================] - 83s 323ms/step - loss: 4.0483 - acc: 0.4109 - top_k_categorical_accuracy: 0.6627 - val_loss: 5.8567 - val_acc: 0.2645 - val_top_k_categorical_accuracy: 0.5374\n",
      "Epoch 10/30\n",
      "256/255 [==============================] - 83s 326ms/step - loss: 3.8177 - acc: 0.4401 - top_k_categorical_accuracy: 0.6889 - val_loss: 5.5861 - val_acc: 0.2885 - val_top_k_categorical_accuracy: 0.5496\n",
      "Epoch 11/30\n",
      "256/255 [==============================] - 83s 324ms/step - loss: 3.7432 - acc: 0.4423 - top_k_categorical_accuracy: 0.7062 - val_loss: 6.2055 - val_acc: 0.2856 - val_top_k_categorical_accuracy: 0.5311\n",
      "Epoch 12/30\n",
      "256/255 [==============================] - 84s 326ms/step - loss: 3.7646 - acc: 0.4637 - top_k_categorical_accuracy: 0.7028 - val_loss: 5.9202 - val_acc: 0.2826 - val_top_k_categorical_accuracy: 0.5452\n",
      "Epoch 13/30\n",
      "256/255 [==============================] - 83s 326ms/step - loss: 3.5778 - acc: 0.4653 - top_k_categorical_accuracy: 0.7233 - val_loss: 6.1599 - val_acc: 0.2807 - val_top_k_categorical_accuracy: 0.5389\n",
      "Epoch 14/30\n",
      "256/255 [==============================] - 85s 333ms/step - loss: 3.6262 - acc: 0.4730 - top_k_categorical_accuracy: 0.7209 - val_loss: 6.0177 - val_acc: 0.2851 - val_top_k_categorical_accuracy: 0.5403\n",
      "Epoch 15/30\n",
      "256/255 [==============================] - 86s 336ms/step - loss: 3.3569 - acc: 0.4972 - top_k_categorical_accuracy: 0.7440 - val_loss: 6.0231 - val_acc: 0.2944 - val_top_k_categorical_accuracy: 0.5501\n",
      "Epoch 16/30\n",
      "256/255 [==============================] - 86s 336ms/step - loss: 3.4890 - acc: 0.4921 - top_k_categorical_accuracy: 0.7387 - val_loss: 6.3803 - val_acc: 0.2748 - val_top_k_categorical_accuracy: 0.5384\n",
      "Epoch 17/30\n",
      "256/255 [==============================] - 85s 332ms/step - loss: 3.4214 - acc: 0.5093 - top_k_categorical_accuracy: 0.7490 - val_loss: 6.0596 - val_acc: 0.3046 - val_top_k_categorical_accuracy: 0.5667\n",
      "Epoch 18/30\n",
      "256/255 [==============================] - 85s 332ms/step - loss: 3.3248 - acc: 0.5220 - top_k_categorical_accuracy: 0.7547 - val_loss: 5.9124 - val_acc: 0.3208 - val_top_k_categorical_accuracy: 0.5785\n",
      "Epoch 19/30\n",
      "256/255 [==============================] - 86s 336ms/step - loss: 3.1974 - acc: 0.5290 - top_k_categorical_accuracy: 0.7715 - val_loss: 5.8977 - val_acc: 0.3071 - val_top_k_categorical_accuracy: 0.5775\n",
      "Epoch 20/30\n",
      "256/255 [==============================] - 85s 333ms/step - loss: 3.0678 - acc: 0.5389 - top_k_categorical_accuracy: 0.7826 - val_loss: 6.2403 - val_acc: 0.2885 - val_top_k_categorical_accuracy: 0.5765\n",
      "Epoch 21/30\n",
      "256/255 [==============================] - 80s 314ms/step - loss: 2.9358 - acc: 0.5604 - top_k_categorical_accuracy: 0.7961 - val_loss: 6.4283 - val_acc: 0.3027 - val_top_k_categorical_accuracy: 0.5565\n",
      "Epoch 22/30\n",
      "256/255 [==============================] - 79s 309ms/step - loss: 2.9441 - acc: 0.5509 - top_k_categorical_accuracy: 0.7958 - val_loss: 6.1354 - val_acc: 0.3056 - val_top_k_categorical_accuracy: 0.5726\n",
      "Epoch 23/30\n",
      "256/255 [==============================] - 79s 310ms/step - loss: 2.9151 - acc: 0.5570 - top_k_categorical_accuracy: 0.8029 - val_loss: 6.3978 - val_acc: 0.3056 - val_top_k_categorical_accuracy: 0.5726\n"
     ]
    },
    {
     "data": {
      "image/png": "[encoded data removed]",
      "text/plain": [
       "<matplotlib.figure.Figure at 0x1f63c19b780>"
      ]
     },
     "metadata": {},
     "output_type": "display_data"
    }
   ],
   "source": [
    "EPOCHS = 30\n",
    "history = dog_model.fit_generator(\n",
    "    datagen.flow(X_train, Y_train, batch_size=BATCH_SIZE),\n",
    "    validation_data=(X_valid, Y_valid),\n",
    "    epochs=EPOCHS,\n",
    "    steps_per_epoch=len(X_train) / BATCH_SIZE, \n",
    "    callbacks=callbacks_list\n",
    "                    )\n",
    "\n",
    "unpack_history(history)\n",
    "plot_history()\n",
    "\n",
    "dog_model.save_weights('dog_model_weights_transfer_learning_0.h5')"
   ]
  },
  {
   "cell_type": "code",
   "execution_count": null,
   "metadata": {
    "collapsed": true
   },
   "outputs": [],
   "source": []
  },
  {
   "cell_type": "code",
   "execution_count": 43,
   "metadata": {},
   "outputs": [
    {
     "name": "stdout",
     "output_type": "stream",
     "text": [
      "2045/2045 [==============================] - 12s 6ms/step\n",
      "Valid LOSS: 6.3978, ACC: 30.56%, ACC5: 57.26%\n"
     ]
    }
   ],
   "source": [
    "def evaluate_dog_model():\n",
    "    evaluate = dog_model.evaluate(X_valid, Y_valid)\n",
    "    print ('Valid LOSS: {:.4f}, ACC: {:.2f}%, ACC5: {:.2f}%'.format(evaluate[0], 100*evaluate[1], 100*evaluate[2]))\n",
    "evaluate_dog_model()"
   ]
  },
  {
   "cell_type": "markdown",
   "metadata": {},
   "source": [
    "### Fine tuning"
   ]
  },
  {
   "cell_type": "markdown",
   "metadata": {},
   "source": [
    "W zasadzie to Fine Tuning to jest taka trochę sztuka dla sztuki. Mamy 10 tys obrazków i ponad 3 mln parametrów, nie widzę sensu w zwiększaniu liczby parametrów. Mimo to można spróbować :)"
   ]
  },
  {
   "cell_type": "code",
   "execution_count": 71,
   "metadata": {
    "collapsed": true
   },
   "outputs": [],
   "source": [
    "dog_model.load_weights(\"./dog_model_weights_transfer_learning_0.h5\")"
   ]
  },
  {
   "cell_type": "code",
   "execution_count": 72,
   "metadata": {},
   "outputs": [
    {
     "name": "stdout",
     "output_type": "stream",
     "text": [
      "block5_conv3\n"
     ]
    }
   ],
   "source": [
    "FINETUNE_LAYER = 17\n",
    "print (dog_model.layers[FINETUNE_LAYER].name)"
   ]
  },
  {
   "cell_type": "code",
   "execution_count": 73,
   "metadata": {
    "collapsed": true
   },
   "outputs": [],
   "source": [
    "from keras.optimizers import SGD\n",
    "\n",
    "for layer in dog_model.layers[:FINETUNE_LAYER]:\n",
    "    layer.trainable = False\n",
    "    \n",
    "for layer in dog_model.layers[FINETUNE_LAYER:]:\n",
    "    layer.trainable = True\n",
    "\n",
    "dog_model.compile(loss='categorical_crossentropy', \n",
    "              optimizer=SGD(lr=1e-4, momentum=0.9),\n",
    "              metrics=['accuracy', metrics.top_k_categorical_accuracy])\n"
   ]
  },
  {
   "cell_type": "code",
   "execution_count": 74,
   "metadata": {
    "collapsed": true
   },
   "outputs": [],
   "source": [
    "callbacks_list = [EarlyStopping(monitor='val_acc', patience=2, verbose=0)]"
   ]
  },
  {
   "cell_type": "code",
   "execution_count": 75,
   "metadata": {},
   "outputs": [
    {
     "name": "stdout",
     "output_type": "stream",
     "text": [
      "Epoch 1/5\n",
      "256/255 [==============================] - 82s 320ms/step - loss: 1.8321 - acc: 0.6848 - top_k_categorical_accuracy: 0.8748 - val_loss: 4.5743 - val_acc: 0.3550 - val_top_k_categorical_accuracy: 0.6425\n",
      "Epoch 2/5\n",
      "256/255 [==============================] - 80s 312ms/step - loss: 1.4992 - acc: 0.7295 - top_k_categorical_accuracy: 0.8949 - val_loss: 4.1031 - val_acc: 0.3711 - val_top_k_categorical_accuracy: 0.6489\n",
      "Epoch 3/5\n",
      "256/255 [==============================] - 80s 311ms/step - loss: 1.2600 - acc: 0.7339 - top_k_categorical_accuracy: 0.9094 - val_loss: 3.8770 - val_acc: 0.3716 - val_top_k_categorical_accuracy: 0.6479\n",
      "Epoch 4/5\n",
      "256/255 [==============================] - 87s 338ms/step - loss: 1.1100 - acc: 0.7519 - top_k_categorical_accuracy: 0.9152 - val_loss: 3.7588 - val_acc: 0.3687 - val_top_k_categorical_accuracy: 0.6562\n",
      "Epoch 5/5\n",
      "256/255 [==============================] - 80s 314ms/step - loss: 1.0390 - acc: 0.7584 - top_k_categorical_accuracy: 0.9160 - val_loss: 3.6914 - val_acc: 0.3819 - val_top_k_categorical_accuracy: 0.6631\n"
     ]
    },
    {
     "data": {
      "image/png": "[encoded data removed]",
      "text/plain": [
       "<matplotlib.figure.Figure at 0x1f7d3d74e10>"
      ]
     },
     "metadata": {},
     "output_type": "display_data"
    }
   ],
   "source": [
    "EPOCHS = 5\n",
    "history = dog_model.fit_generator(\n",
    "    datagen.flow(X_train, Y_train, batch_size=BATCH_SIZE),\n",
    "    validation_data=(X_valid, Y_valid),\n",
    "    epochs=EPOCHS,\n",
    "    steps_per_epoch=len(X_train) / BATCH_SIZE, \n",
    "    callbacks=callbacks_list\n",
    "                    )\n",
    "\n",
    "unpack_history(history)\n",
    "plot_history()\n",
    "\n",
    "dog_model.save_weights('dog_model_weights_fine_tuning_0.h5')\n"
   ]
  },
  {
   "cell_type": "code",
   "execution_count": 78,
   "metadata": {},
   "outputs": [
    {
     "name": "stdout",
     "output_type": "stream",
     "text": [
      "2045/2045 [==============================] - 12s 6ms/step\n",
      "Valid LOSS: 3.6914, ACC: 38.19%, ACC5: 66.31%\n"
     ]
    }
   ],
   "source": [
    "evaluate_dog_model()"
   ]
  },
  {
   "cell_type": "code",
   "execution_count": null,
   "metadata": {
    "collapsed": true
   },
   "outputs": [],
   "source": []
  }
 ],
 "metadata": {
  "anaconda-cloud": {},
  "kernelspec": {
   "display_name": "Python 3",
   "language": "python",
   "name": "python3"
  },
  "language_info": {
   "codemirror_mode": {
    "name": "ipython",
    "version": 3
   },
   "file_extension": ".py",
   "mimetype": "text/x-python",
   "name": "python",
   "nbconvert_exporter": "python",
   "pygments_lexer": "ipython3",
   "version": "3.5.2"
  }
 },
 "nbformat": 4,
 "nbformat_minor": 1
}
